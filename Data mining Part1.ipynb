{
 "cells": [
  {
   "cell_type": "code",
   "execution_count": 3,
   "metadata": {},
   "outputs": [
    {
     "name": "stdout",
     "output_type": "stream",
     "text": [
      "Requirement already up-to-date: scikit-learn in c:\\users\\yifan ma\\anaconda3\\lib\\site-packages (0.20.3)\n",
      "Requirement already satisfied, skipping upgrade: numpy>=1.8.2 in c:\\users\\yifan ma\\anaconda3\\lib\\site-packages (from scikit-learn) (1.16.3)\n",
      "Requirement already satisfied, skipping upgrade: scipy>=0.13.3 in c:\\users\\yifan ma\\anaconda3\\lib\\site-packages (from scikit-learn) (1.2.1)\n"
     ]
    }
   ],
   "source": [
    "! pip install -U scikit-learn"
   ]
  },
  {
   "cell_type": "code",
   "execution_count": 2,
   "metadata": {},
   "outputs": [
    {
     "name": "stdout",
     "output_type": "stream",
     "text": [
      "Collecting pip\n",
      "  Downloading https://files.pythonhosted.org/packages/f9/fb/863012b13912709c13cf5cfdbfb304fa6c727659d6290438e1a88df9d848/pip-19.1-py2.py3-none-any.whl (1.4MB)\n",
      "Installing collected packages: pip\n",
      "  Found existing installation: pip 9.0.1\n",
      "    Uninstalling pip-9.0.1:\n",
      "      Successfully uninstalled pip-9.0.1\n",
      "Successfully installed pip-19.1\n"
     ]
    }
   ],
   "source": [
    "! python -m pip install --upgrade pip"
   ]
  },
  {
   "cell_type": "code",
   "execution_count": 39,
   "metadata": {
    "collapsed": true
   },
   "outputs": [],
   "source": [
    "import numpy as np\n",
    "#this is the example about similarity\n",
    "dataset_filename = 'E:/My Learning/Learning data mining/LearningDataMiningwithPythonSecondEdition_Code/Chapter01/affinity_dataset.txt'\n",
    "X = np.loadtxt(dataset_filename)"
   ]
  },
  {
   "cell_type": "code",
   "execution_count": 40,
   "metadata": {},
   "outputs": [
    {
     "name": "stdout",
     "output_type": "stream",
     "text": [
      "[[0. 1. 0. 0. 0.]\n",
      " [1. 1. 0. 0. 0.]\n",
      " [0. 0. 1. 0. 1.]\n",
      " [1. 1. 0. 0. 0.]\n",
      " [0. 0. 1. 1. 1.]]\n"
     ]
    }
   ],
   "source": [
    "print(X[:5])"
   ]
  },
  {
   "cell_type": "code",
   "execution_count": 41,
   "metadata": {},
   "outputs": [
    {
     "data": {
      "text/plain": [
       "array([[0., 1., 0., 0., 0.],\n",
       "       [1., 1., 0., 0., 0.],\n",
       "       [0., 0., 1., 0., 1.]])"
      ]
     },
     "execution_count": 41,
     "metadata": {},
     "output_type": "execute_result"
    }
   ],
   "source": [
    "X[0:3]"
   ]
  },
  {
   "cell_type": "code",
   "execution_count": 42,
   "metadata": {},
   "outputs": [
    {
     "name": "stdout",
     "output_type": "stream",
     "text": [
      "43 people bought apples.\n"
     ]
    }
   ],
   "source": [
    "#count the # of customers who bought apples\n",
    "number_apple = 0\n",
    "for sample_apple in X:\n",
    "    if sample_apple[3] == 1:\n",
    "        number_apple += 1\n",
    "print(str(number_apple) + ' people bought apples.')"
   ]
  },
  {
   "cell_type": "code",
   "execution_count": 43,
   "metadata": {
    "collapsed": true
   },
   "outputs": [],
   "source": [
    "#generate a default dictionary\n",
    "from collections import defaultdict\n",
    "valid_rules = defaultdict(int)\n",
    "invalid_rules = defaultdict(int)\n",
    "num_occurances = defaultdict(int)"
   ]
  },
  {
   "cell_type": "code",
   "execution_count": 44,
   "metadata": {},
   "outputs": [
    {
     "data": {
      "text/plain": [
       "(100, 5)"
      ]
     },
     "execution_count": 44,
     "metadata": {},
     "output_type": "execute_result"
    }
   ],
   "source": [
    "#get the number of rows and columns\n",
    "n_samples, n_features = X.shape\n",
    "n_samples, n_features"
   ]
  },
  {
   "cell_type": "code",
   "execution_count": 46,
   "metadata": {
    "collapsed": true
   },
   "outputs": [],
   "source": [
    "#check if sample customer bought product premise\n",
    "for sample in X:\n",
    "    for premise in range(5):\n",
    "#if customer didn't buy this premise, skip to the next\n",
    "        if sample[premise] == 0:\n",
    "            continue\n",
    "#if customer bought product premise, then add 1 occurance to product premise    \n",
    "        else:\n",
    "            num_occurances[premise] += 1\n",
    "#exclude all the cases when product premise and product conclusion are the same\n",
    "        for conclusion in range(n_features):\n",
    "            if premise == conclusion:\n",
    "                continue\n",
    "            if sample[conclusion] == 1:\n",
    "                valid_rules[(premise, conclusion)] += 1\n",
    "            else:\n",
    "                invalid_rules[(premise,conclusion)] += 1"
   ]
  },
  {
   "cell_type": "code",
   "execution_count": 48,
   "metadata": {
    "collapsed": true
   },
   "outputs": [],
   "source": [
    "#calculate the value of support and confidence\n",
    "#support is based on number of cases matched valid rule\n",
    "support = valid_rules\n",
    "\n",
    "#confidence is based on ratio of valid number against number of occurances\n",
    "confidence = defaultdict(float)\n",
    "for premise, conclusion in valid_rules.keys():\n",
    "    confidence[(premise,conclusion)] = valid_rules[(premise, conclusion)] / num_occurances[premise]"
   ]
  },
  {
   "cell_type": "code",
   "execution_count": 49,
   "metadata": {
    "collapsed": true
   },
   "outputs": [],
   "source": [
    "#define a function\n",
    "#input: premise, conclusion, support dictionary, confidence dictionary, features\n",
    "#output: support and confidence of each rule (the combination of premise and conclusion)\n",
    "def rule_of_feature (premise, conclusion, support, confidence, features):\n",
    "    premise_name = features[premise]\n",
    "    conclusion_name = features[conclusion]\n",
    "#change the index of a feature to a feature name\n",
    "    print('if people buy {0} they will also buy {1}'.format(premise_name, conclusion_name))\n",
    "    print(' - Support: {0}'.format(support[(premise,conclusion)]))\n",
    "    print(' - Confidence: {0:.3f}'.format(confidence[(premise,conclusion)]))"
   ]
  },
  {
   "cell_type": "code",
   "execution_count": 66,
   "metadata": {},
   "outputs": [
    {
     "name": "stdout",
     "output_type": "stream",
     "text": [
      "if people buy cheese they will also buy apple\n",
      " - Support: 22\n",
      " - Confidence: 0.564\n"
     ]
    }
   ],
   "source": [
    "features = ['bread','milk','cheese','apple','banana']\n",
    "premise = 2\n",
    "conclusion = 3\n",
    "rule_of_feature(premise,conclusion,support,confidence,features)"
   ]
  },
  {
   "cell_type": "code",
   "execution_count": 68,
   "metadata": {},
   "outputs": [
    {
     "data": {
      "text/plain": [
       "dict_items([((0, 1), 13), ((1, 0), 13), ((2, 4), 20), ((4, 2), 20), ((2, 3), 22), ((3, 2), 22), ((3, 4), 27), ((4, 3), 27), ((1, 3), 18), ((3, 1), 18), ((1, 4), 27), ((4, 1), 27), ((0, 2), 5), ((2, 0), 5), ((0, 4), 16), ((4, 0), 16), ((1, 2), 11), ((2, 1), 11), ((0, 3), 9), ((3, 0), 9)])"
      ]
     },
     "execution_count": 68,
     "metadata": {},
     "output_type": "execute_result"
    }
   ],
   "source": [
    "from operator import itemgetter\n",
    "#display all the elements in the support dictionary\n",
    "support.items()"
   ]
  },
  {
   "cell_type": "code",
   "execution_count": 74,
   "metadata": {},
   "outputs": [
    {
     "data": {
      "text/plain": [
       "[((3, 4), 27), ((4, 3), 27), ((1, 4), 27), ((4, 1), 27), ((2, 3), 22)]"
      ]
     },
     "execution_count": 74,
     "metadata": {},
     "output_type": "execute_result"
    }
   ],
   "source": [
    "#sort the list by descending support \n",
    "sorted_support = sorted(support.items(), key = itemgetter(1), reverse = True)\n",
    "#display top 5 supports\n",
    "sorted_support[0:5]"
   ]
  },
  {
   "cell_type": "code",
   "execution_count": 76,
   "metadata": {},
   "outputs": [
    {
     "name": "stdout",
     "output_type": "stream",
     "text": [
      "Conclusion #1:\n",
      "if people buy apple they will also buy banana\n",
      " - Support: 27\n",
      " - Confidence: 0.628\n",
      "Conclusion #2:\n",
      "if people buy banana they will also buy apple\n",
      " - Support: 27\n",
      " - Confidence: 0.474\n",
      "Conclusion #3:\n",
      "if people buy milk they will also buy banana\n",
      " - Support: 27\n",
      " - Confidence: 0.519\n",
      "Conclusion #4:\n",
      "if people buy banana they will also buy milk\n",
      " - Support: 27\n",
      " - Confidence: 0.474\n",
      "Conclusion #5:\n",
      "if people buy cheese they will also buy apple\n",
      " - Support: 22\n",
      " - Confidence: 0.564\n"
     ]
    }
   ],
   "source": [
    "#display the top 5 support combinations of premise and conclusion\n",
    "for id in range(5):\n",
    "    print('Conclusion #{0}:'.format(id + 1))\n",
    "    premise, conclusion = sorted_support[id][0]\n",
    "    rule_of_feature(premise, conclusion, support, confidence,features)"
   ]
  },
  {
   "cell_type": "code",
   "execution_count": 92,
   "metadata": {},
   "outputs": [
    {
     "ename": "AttributeError",
     "evalue": "'list' object has no attribute 'DESCR'",
     "output_type": "error",
     "traceback": [
      "\u001b[1;31m---------------------------------------------------------------------------\u001b[0m",
      "\u001b[1;31mAttributeError\u001b[0m                            Traceback (most recent call last)",
      "\u001b[1;32m<ipython-input-92-1c69f365d34a>\u001b[0m in \u001b[0;36m<module>\u001b[1;34m()\u001b[0m\n\u001b[0;32m      3\u001b[0m \u001b[1;31m#display top 5 confidence\u001b[0m\u001b[1;33m\u001b[0m\u001b[1;33m\u001b[0m\u001b[0m\n\u001b[0;32m      4\u001b[0m \u001b[0msorted_confidence\u001b[0m\u001b[1;33m[\u001b[0m\u001b[1;36m0\u001b[0m\u001b[1;33m:\u001b[0m\u001b[1;36m5\u001b[0m\u001b[1;33m]\u001b[0m\u001b[1;33m\u001b[0m\u001b[0m\n\u001b[1;32m----> 5\u001b[1;33m \u001b[0msorted_confidence\u001b[0m\u001b[1;33m.\u001b[0m\u001b[0mDESCR\u001b[0m\u001b[1;33m\u001b[0m\u001b[0m\n\u001b[0m",
      "\u001b[1;31mAttributeError\u001b[0m: 'list' object has no attribute 'DESCR'"
     ]
    }
   ],
   "source": [
    "#sort the list by descending confidence\n",
    "sorted_confidence = sorted(confidence.items(), key = itemgetter(1), reverse = True)\n",
    "#display top 5 confidence\n",
    "sorted_confidence[0:5]"
   ]
  },
  {
   "cell_type": "code",
   "execution_count": 79,
   "metadata": {},
   "outputs": [
    {
     "name": "stdout",
     "output_type": "stream",
     "text": [
      "Conclusion #1:\n",
      "if people buy apple they will also buy banana\n",
      " - Support: 27\n",
      " - Confidence: 0.628\n",
      "Conclusion #2:\n",
      "if people buy bread they will also buy banana\n",
      " - Support: 16\n",
      " - Confidence: 0.571\n",
      "Conclusion #3:\n",
      "if people buy cheese they will also buy apple\n",
      " - Support: 22\n",
      " - Confidence: 0.564\n",
      "Conclusion #4:\n",
      "if people buy milk they will also buy banana\n",
      " - Support: 27\n",
      " - Confidence: 0.519\n",
      "Conclusion #5:\n",
      "if people buy cheese they will also buy banana\n",
      " - Support: 20\n",
      " - Confidence: 0.513\n"
     ]
    }
   ],
   "source": [
    "#display the top 5 conclusion combinations of premise and conclusion\n",
    "for id in range(5):\n",
    "    print('Conclusion #{0}:'.format(id + 1))\n",
    "    premise, conclusion = sorted_confidence[id][0]\n",
    "    rule_of_feature(premise, conclusion, support, confidence,features)"
   ]
  },
  {
   "cell_type": "code",
   "execution_count": 90,
   "metadata": {
    "collapsed": true
   },
   "outputs": [],
   "source": [
    "#classification example ---- iris (inside the scikit-learn database)\n",
    "from sklearn.datasets import load_iris\n",
    "dataset = load_iris()\n",
    "x = dataset.data\n",
    "y = dataset.target"
   ]
  },
  {
   "cell_type": "code",
   "execution_count": 91,
   "metadata": {},
   "outputs": [
    {
     "name": "stdout",
     "output_type": "stream",
     "text": [
      ".. _iris_dataset:\n",
      "\n",
      "Iris plants dataset\n",
      "--------------------\n",
      "\n",
      "**Data Set Characteristics:**\n",
      "\n",
      "    :Number of Instances: 150 (50 in each of three classes)\n",
      "    :Number of Attributes: 4 numeric, predictive attributes and the class\n",
      "    :Attribute Information:\n",
      "        - sepal length in cm\n",
      "        - sepal width in cm\n",
      "        - petal length in cm\n",
      "        - petal width in cm\n",
      "        - class:\n",
      "                - Iris-Setosa\n",
      "                - Iris-Versicolour\n",
      "                - Iris-Virginica\n",
      "                \n",
      "    :Summary Statistics:\n",
      "\n",
      "    ============== ==== ==== ======= ===== ====================\n",
      "                    Min  Max   Mean    SD   Class Correlation\n",
      "    ============== ==== ==== ======= ===== ====================\n",
      "    sepal length:   4.3  7.9   5.84   0.83    0.7826\n",
      "    sepal width:    2.0  4.4   3.05   0.43   -0.4194\n",
      "    petal length:   1.0  6.9   3.76   1.76    0.9490  (high!)\n",
      "    petal width:    0.1  2.5   1.20   0.76    0.9565  (high!)\n",
      "    ============== ==== ==== ======= ===== ====================\n",
      "\n",
      "    :Missing Attribute Values: None\n",
      "    :Class Distribution: 33.3% for each of 3 classes.\n",
      "    :Creator: R.A. Fisher\n",
      "    :Donor: Michael Marshall (MARSHALL%PLU@io.arc.nasa.gov)\n",
      "    :Date: July, 1988\n",
      "\n",
      "The famous Iris database, first used by Sir R.A. Fisher. The dataset is taken\n",
      "from Fisher's paper. Note that it's the same as in R, but not as in the UCI\n",
      "Machine Learning Repository, which has two wrong data points.\n",
      "\n",
      "This is perhaps the best known database to be found in the\n",
      "pattern recognition literature.  Fisher's paper is a classic in the field and\n",
      "is referenced frequently to this day.  (See Duda & Hart, for example.)  The\n",
      "data set contains 3 classes of 50 instances each, where each class refers to a\n",
      "type of iris plant.  One class is linearly separable from the other 2; the\n",
      "latter are NOT linearly separable from each other.\n",
      "\n",
      ".. topic:: References\n",
      "\n",
      "   - Fisher, R.A. \"The use of multiple measurements in taxonomic problems\"\n",
      "     Annual Eugenics, 7, Part II, 179-188 (1936); also in \"Contributions to\n",
      "     Mathematical Statistics\" (John Wiley, NY, 1950).\n",
      "   - Duda, R.O., & Hart, P.E. (1973) Pattern Classification and Scene Analysis.\n",
      "     (Q327.D83) John Wiley & Sons.  ISBN 0-471-22361-1.  See page 218.\n",
      "   - Dasarathy, B.V. (1980) \"Nosing Around the Neighborhood: A New System\n",
      "     Structure and Classification Rule for Recognition in Partially Exposed\n",
      "     Environments\".  IEEE Transactions on Pattern Analysis and Machine\n",
      "     Intelligence, Vol. PAMI-2, No. 1, 67-71.\n",
      "   - Gates, G.W. (1972) \"The Reduced Nearest Neighbor Rule\".  IEEE Transactions\n",
      "     on Information Theory, May 1972, 431-433.\n",
      "   - See also: 1988 MLC Proceedings, 54-64.  Cheeseman et al\"s AUTOCLASS II\n",
      "     conceptual clustering system finds 3 classes in the data.\n",
      "   - Many, many more ...\n"
     ]
    }
   ],
   "source": [
    "#check the description of the iris dataset\n",
    "print(dataset.DESCR)"
   ]
  },
  {
   "cell_type": "code",
   "execution_count": null,
   "metadata": {
    "collapsed": true
   },
   "outputs": [],
   "source": []
  }
 ],
 "metadata": {
  "kernelspec": {
   "display_name": "Python 3",
   "language": "python",
   "name": "python3"
  },
  "language_info": {
   "codemirror_mode": {
    "name": "ipython",
    "version": 3
   },
   "file_extension": ".py",
   "mimetype": "text/x-python",
   "name": "python",
   "nbconvert_exporter": "python",
   "pygments_lexer": "ipython3",
   "version": "3.6.1"
  }
 },
 "nbformat": 4,
 "nbformat_minor": 2
}
